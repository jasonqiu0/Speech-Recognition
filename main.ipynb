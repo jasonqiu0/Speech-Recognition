{
 "cells": [
  {
   "cell_type": "code",
   "execution_count": 1,
   "id": "754a9bc1-6f90-4b73-984f-2a00009e2ee4",
   "metadata": {},
   "outputs": [
    {
     "data": {
      "application/vnd.jupyter.widget-view+json": {
       "model_id": "6f80a79db4174d33805fb6615e93479d",
       "version_major": 2,
       "version_minor": 0
      },
      "text/plain": [
       "Button(button_style='success', description='Record', icon='microphone', style=ButtonStyle())"
      ]
     },
     "metadata": {},
     "output_type": "display_data"
    },
    {
     "data": {
      "application/vnd.jupyter.widget-view+json": {
       "model_id": "9877db6f32774abebb111cc8281bac39",
       "version_major": 2,
       "version_minor": 0
      },
      "text/plain": [
       "Button(button_style='warning', description='Stop', icon='stop', style=ButtonStyle())"
      ]
     },
     "metadata": {},
     "output_type": "display_data"
    }
   ],
   "source": [
    "import ipywidgets as widgets\n",
    "from IPython.display import display\n",
    "from queue import Queue\n",
    "from threading import Thread\n",
    "\n",
    "messages = Queue() #tell the thread when to stop recording\n",
    "recordings = Queue() #store the audio from the mic. and pass to transcription\n",
    "\n",
    "record_button = widgets.Button(\n",
    "    description = \"Record\",\n",
    "    disabled = False,\n",
    "    button_style = \"success\",\n",
    "    icon = \"microphone\"\n",
    ")\n",
    "\n",
    "stop_button = widgets.Button(\n",
    "    description = \"Stop\",\n",
    "    disabled = False,\n",
    "    button_style = \"warning\",\n",
    "    icon = \"stop\"\n",
    ")\n",
    "\n",
    "output = widgets.Output()\n",
    "\n",
    "def start_recording(data):\n",
    "    messages.put(True) #keep running & recording the mic.\n",
    "\n",
    "    #put a message onto the messages queue which tells the threads to keep running\n",
    "    with output:\n",
    "        display(\"Starting...\")\n",
    "        record = Thread(target = record_mic) #calls a thread that will record the mic\n",
    "        record.start() #start thread and have it record in the background\n",
    "        \n",
    "        transcribe = Thread(target=speech_recognition, args=(output,))\n",
    "        transcribe.start() #transcribe audio into text\n",
    "    \n",
    "\n",
    "def stop_recording(data):\n",
    "    with output:\n",
    "        messages.get() #takes the message off the queue\n",
    "        display(\"Stopped.\")\n",
    "\n",
    "record_button.on_click(start_recording)\n",
    "stop_button.on_click(stop_recording)\n",
    "\n",
    "display(record_button, stop_button) "
   ]
  },
  {
   "cell_type": "code",
   "execution_count": null,
   "id": "836f6ccf-1ed7-41a7-8126-173486432a8e",
   "metadata": {},
   "outputs": [],
   "source": [
    "import pyaudio #microphone index = 0\n",
    "p = pyaudio.PyAudio()\n",
    "for i in range(p.get_device_count()):\n",
    "    print(p.get_device_info_by_index(i))\n",
    "    \n",
    "p.terminate()"
   ]
  },
  {
   "cell_type": "code",
   "execution_count": null,
   "id": "b4e725af-a7eb-4806-b779-320bf50a14fe",
   "metadata": {},
   "outputs": [],
   "source": [
    "CHANNELS = 1\n",
    "FRAME_RATE = 16000\n",
    "RECORD_SECONDS = 20\n",
    "AUDIO_FORMAT = pyaudio.paInt16\n",
    "SAMPLE_SIZE = 2\n",
    "\n",
    "def record_mic(chunk=1024):\n",
    "    p = pyaudio.PyAudio()\n",
    "    \n",
    "    stream = p.open(format=AUDIO_FORMAT,\n",
    "                    channels=CHANNELS,\n",
    "                    rate=FRAME_RATE,\n",
    "                    input=True,\n",
    "                    input_device_index=2,\n",
    "                    frames_per_buffer=chunk)\n",
    "    frames = []\n",
    "    while not messages.empty():\n",
    "        data = stream.read(chunk)\n",
    "        frames.append(data)\n",
    "        \n",
    "        if len(frames) >= (FRAME_RATE * RECORD_SECONDS) / chunk:\n",
    "            recordings.put(frames.copy())\n",
    "            frames\n",
    "    "
   ]
  }
 ],
 "metadata": {
  "kernelspec": {
   "display_name": "Python 3 (ipykernel)",
   "language": "python",
   "name": "python3"
  },
  "language_info": {
   "codemirror_mode": {
    "name": "ipython",
    "version": 3
   },
   "file_extension": ".py",
   "mimetype": "text/x-python",
   "name": "python",
   "nbconvert_exporter": "python",
   "pygments_lexer": "ipython3",
   "version": "3.11.13"
  }
 },
 "nbformat": 4,
 "nbformat_minor": 5
}
